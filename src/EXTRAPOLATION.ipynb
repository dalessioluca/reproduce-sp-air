{
 "cells": [
  {
   "cell_type": "markdown",
   "metadata": {},
   "source": [
    "# EXTRAPOLATION sp-air \n",
    "Recall to select the myenv in the python kernel\n",
    "\"source activate myenv\""
   ]
  },
  {
   "cell_type": "code",
   "execution_count": 66,
   "metadata": {},
   "outputs": [
    {
     "name": "stdout",
     "output_type": "stream",
     "text": [
      "The autoreload extension is already loaded. To reload it, use:\n",
      "  %reload_ext autoreload\n"
     ]
    }
   ],
   "source": [
    "%load_ext autoreload\n",
    "%autoreload 2"
   ]
  },
  {
   "cell_type": "code",
   "execution_count": 67,
   "metadata": {},
   "outputs": [
    {
     "name": "stdout",
     "output_type": "stream",
     "text": [
      "3.6.12 | packaged by conda-forge | (default, Dec  9 2020, 00:36:02) \n",
      "[GCC 9.3.0]\n"
     ]
    }
   ],
   "source": [
    "%matplotlib inline\n",
    "import matplotlib.pyplot as plt\n",
    "import sys\n",
    "print(sys.version)"
   ]
  },
  {
   "cell_type": "code",
   "execution_count": 68,
   "metadata": {},
   "outputs": [],
   "source": [
    "import time\n",
    "import pickle\n",
    "import os\n",
    "import copy\n",
    "import numpy\n",
    "\n",
    "import numpy as np\n",
    "import tensorflow as tf\n",
    "from scipy.misc import imresize\n",
    "\n",
    "import config\n",
    "import model\n",
    "import rat_spn"
   ]
  },
  {
   "cell_type": "markdown",
   "metadata": {},
   "source": [
    "## Helper functions"
   ]
  },
  {
   "cell_type": "code",
   "execution_count": 69,
   "metadata": {},
   "outputs": [],
   "source": [
    "def load_dataset_from_file(train_file, test_file, out_of_sample_test_file):\n",
    "    loaded_train = numpy.load(train_file)\n",
    "    loaded_test = numpy.load(test_file)\n",
    "    loaded_test_out = numpy.load(out_of_sample_test_file)\n",
    "    return (loaded_train['images'], \n",
    "            loaded_train['counts']), (loaded_test['images'], \n",
    "                                      loaded_test['counts']), (loaded_test_out['images'], \n",
    "                                                               loaded_test_out['counts'])\n",
    "\n",
    "class SpnReconstructor:\n",
    "    def __init__(self, spn):\n",
    "        self.spn = spn\n",
    "        self.input_ph = tf.placeholder(tf.float32, (1, spn.num_dims))\n",
    "        self.marginalized = tf.placeholder(tf.float32, (1, spn.num_dims))\n",
    "        self.spn_out = spn.forward(self.input_ph, self.marginalized)\n",
    "        self.max_idx_tensors = {}\n",
    "        for layer in spn.vector_list:\n",
    "            for vector in layer:\n",
    "                if isinstance(vector, rat_spn.SumVector):\n",
    "                    self.max_idx_tensors[vector.name] = vector.max_child_idx\n",
    "\n",
    "    def reconstruct(self, image, marginalized, sess, sample=False):\n",
    "        original_shape = image.shape\n",
    "        image = np.reshape(image, (1, -1))\n",
    "        marginalized = np.reshape(marginalized, (1, -1))\n",
    "        feed_dict = {self.input_ph: image, self.marginalized: marginalized}\n",
    "        max_idxs = sess.run(self.max_idx_tensors, feed_dict=feed_dict)\n",
    "        recon = self.spn.reconstruct(max_idxs, sess, sample)\n",
    "        recon = recon * (1 - marginalized)\n",
    "        recon = np.clip(recon, 0.0, 1.0)\n",
    "        return np.reshape(recon, original_shape)\n",
    "\n",
    "\n",
    "class SupairTrainer:\n",
    "    def __init__(self, conf):\n",
    "        \n",
    "        \n",
    "        # load data and add make sure that conf has the appropriate variables describing the dataset\n",
    "        bboxes = None\n",
    "        if conf.dataset == 'MNIST':\n",
    "            (x, counts), (x_test, c_test), (x_test_out, c_test_out) = load_dataset_from_file(conf.train_file,\n",
    "                                                                                             conf.test_file,\n",
    "                                                                                             conf.out_test_file)\n",
    "            conf.scene_width = x.shape[-3]\n",
    "            conf.scene_height = x.shape[-2]\n",
    "            conf.channels = x.shape[-1]\n",
    "        else:\n",
    "            raise ValueError('unknown dataset', conf.dataset)\n",
    "            \n",
    "        # shuffle the order\n",
    "        shuffle = numpy.random.permutation(x.shape[0])\n",
    "        self.x, self.counts = x[shuffle,...], counts[shuffle]\n",
    "        shuffle = numpy.random.permutation(x_test.shape[0])\n",
    "        self.x_test, self.c_test = x_test[shuffle,...], c_test[shuffle]\n",
    "        shuffle = numpy.random.permutation(x_test_out.shape[0])\n",
    "        self.x_test_out, self.c_test_out = x_test_out[shuffle,...], c_test_out[shuffle]\n",
    "            \n",
    "            \n",
    "        \n",
    "        self.conf = conf\n",
    "\n",
    "        # determine and create result dir\n",
    "        i = 1\n",
    "        log_path = conf.result_path + 'run0'\n",
    "        while os.path.exists(log_path):\n",
    "            log_path = '{}run{}'.format(conf.result_path, i)\n",
    "            i += 1\n",
    "        os.makedirs(log_path)\n",
    "        self.log_path = log_path\n",
    "\n",
    "        if not os.path.exists(conf.checkpoint_dir):\n",
    "            os.makedirs(conf.checkpoint_dir)\n",
    "\n",
    "        input_shape = [conf.batch_size, conf.scene_width, conf.scene_height, conf.channels]\n",
    "        # build model\n",
    "        with tf.device(conf.device):\n",
    "            self.mdl = model.Supair(conf)\n",
    "            self.in_ph = tf.placeholder(tf.float32, input_shape)\n",
    "            self.elbo = self.mdl.elbo(self.in_ph)\n",
    "\n",
    "            self.mdl.num_parameters()\n",
    "\n",
    "            self.optimizer = tf.train.AdamOptimizer()\n",
    "            self.train_op = self.optimizer.minimize(-1 * self.elbo)\n",
    "\n",
    "        self.sess = tf.Session()\n",
    "        self.saver = tf.train.Saver()\n",
    "        if self.conf.load_params:\n",
    "            resume_ckpt = os.path.join(self.conf.path_to_ckpt)\n",
    "            self.saver.restore(self.sess, resume_ckpt)\n",
    "        else:\n",
    "            self.sess.run(tf.global_variables_initializer())\n",
    "            self.sess.run(tf.local_variables_initializer())\n",
    "\n",
    "        print('Built model')\n",
    "        self.obj_reconstructor = SpnReconstructor(self.mdl.obj_spn)\n",
    "        self.bg_reconstructor = SpnReconstructor(self.mdl.bg_spn)\n",
    "\n",
    "        tfgraph = tf.get_default_graph()\n",
    "        self.tensors_of_interest = {\n",
    "            'z_where': tfgraph.get_tensor_by_name('z_where:0'),\n",
    "            'z_pres': tfgraph.get_tensor_by_name('z_pres:0'),\n",
    "            'bg_score': tfgraph.get_tensor_by_name('bg_score:0'),\n",
    "            'y': tfgraph.get_tensor_by_name('y:0'),\n",
    "            'obj_vis': tfgraph.get_tensor_by_name('obj_vis:0'),\n",
    "            'bg_maps': tfgraph.get_tensor_by_name('bg_maps:0')\n",
    "        }\n",
    "\n",
    "    def log_and_print_progress(self, n_iter, acc, elbo, avg_obj, log_file, title):\n",
    "        print('{}, N_iter {}, Accuracy: {}, avg_obj: {}, elbo {}'.format(title, n_iter, acc, avg_obj, elbo))\n",
    "        log_file.write('{}, {}, {}, {}, {}\\n'.format(title, n_iter, acc, avg_obj, elbo))\n",
    "        log_file.flush()\n",
    "\n",
    "    def reconstruct_scenes(self, images, cur_values):\n",
    "        num_detected = np.sum(np.rint(cur_values['z_pres']), axis=1).astype(np.int32)\n",
    "        results = []\n",
    "        for i in range(images.shape[0]):\n",
    "            n = int(num_detected[i])\n",
    "            y = cur_values['y'][i]\n",
    "            z_where = cur_values['z_where'][i]\n",
    "            obj_vis = cur_values['obj_vis'][i]\n",
    "            objects = [self.obj_reconstructor.reconstruct(y[k], 1 - obj_vis[k], self.sess)\n",
    "                       for k in range(n)]\n",
    "            bg_map = cur_values['bg_maps'][i, n]\n",
    "            bg = self.bg_reconstructor.reconstruct(images[i], 1 - bg_map, self.sess, sample=True)\n",
    "\n",
    "            for j in range(n - 1, -1, -1):\n",
    "                col = int(z_where[j, 2])\n",
    "                row = int(z_where[j, 5])\n",
    "                w = int(z_where[j, 0] * self.conf.patch_width)\n",
    "                h = int(z_where[j, 4] * self.conf.patch_height)\n",
    "                # check for pathological object dimensions; treat as not present\n",
    "                if h <= 0 or w <= 0 or row < 0 or col < 0 or row + h > 50 or col + w > 50:\n",
    "                    continue\n",
    "                obj = imresize(np.squeeze(objects[j]), (h, w)).astype(np.float32) / 255.0\n",
    "                bg[row:row + h, col:col + w, 0] = obj\n",
    "\n",
    "            results.append(bg)\n",
    "\n",
    "        results = np.stack(results, 0)\n",
    "        results = np.clip(results, 0.0, 1.0)\n",
    "        return results\n",
    "\n",
    "    def run_training(self):\n",
    "        batch_size = self.conf.batch_size\n",
    "        batches_per_epoch = self.x.shape[0] // batch_size\n",
    "        sess = self.sess\n",
    "\n",
    "        perf_log = open(self.conf.log_file, 'a')\n",
    "        \n",
    "        for n_iter in range(20000):\n",
    "            i = n_iter % batches_per_epoch            \n",
    "            batch = self.x[i * batch_size: (i + 1) * batch_size]\n",
    "            \n",
    "            # print(\"DEBUG ->\",n_iter, i, batch.shape)\n",
    "                 \n",
    "            _, cur_elbo, cur_values = sess.run([self.train_op, self.elbo, self.tensors_of_interest], feed_dict={self.in_ph: batch})\n",
    "\n",
    "            if (n_iter % 1000 ==0) and (n_iter > 0):\n",
    "                # save the model \n",
    "                ckpt_file = os.path.join(self.conf.checkpoint_dir, \"model_\"+str(n_iter)+\".ckpt\")\n",
    "                self.saver.save(sess, ckpt_file)\n",
    "                \n",
    "            if (n_iter % 100 == 0):\n",
    "                # train accuracy\n",
    "                num_detected = np.sum(np.rint(cur_values['z_pres']), axis=1).astype(np.int32)\n",
    "                batch_counts = self.counts[i * batch_size: (i + 1) * batch_size]\n",
    "                train_acc = np.mean(num_detected == batch_counts)\n",
    "                avg_obj = np.average(num_detected)\n",
    "                self.log_and_print_progress(n_iter, train_acc, cur_elbo, avg_obj, perf_log, title=\"train\")\n",
    "                    \n",
    "            if (n_iter % 1000 == 0) and (n_iter > 0):\n",
    "                print(\"computing test acc\")\n",
    "                test_elbo = 0\n",
    "                test_acc, test_avg_obj = self.compute_test_acc(kind=\"in\")\n",
    "                self.log_and_print_progress(n_iter, test_acc, test_elbo, test_avg_obj, perf_log, title=\"test_in\")\n",
    "                test_acc, test_avg_obj = self.compute_test_acc(kind=\"out\")\n",
    "                self.log_and_print_progress(n_iter, test_acc, test_elbo, test_avg_obj, perf_log, title=\"test_out\")\n",
    "     \n",
    "        perf_log.close()\n",
    "\n",
    "\n",
    "    def compute_test_acc(self, kind):\n",
    "        batch_size = self.conf.batch_size\n",
    "        \n",
    "        if kind == \"in\":\n",
    "            num_batches = self.x_test.shape[0] // batch_size \n",
    "        elif kind == \"out\":\n",
    "            num_batches = self.x_test_out.shape[0] // batch_size \n",
    "        else:\n",
    "            raise ValueError('unknown kind', kind)\n",
    "            \n",
    "        z_pres = self.tensors_of_interest['z_pres']\n",
    "        correct, num_detected_tot = 0, 0\n",
    "        for i in range(num_batches):\n",
    "            \n",
    "            if kind == \"in\":\n",
    "                x_batch = self.x_test[i * batch_size: (i + 1) * batch_size]\n",
    "                c_batch = self.c_test[i * batch_size: (i + 1) * batch_size]\n",
    "            elif kind == \"out\":\n",
    "                x_batch = self.x_test_out[i * batch_size: (i + 1) * batch_size]\n",
    "                c_batch = self.c_test_out[i * batch_size: (i + 1) * batch_size]\n",
    "            else:\n",
    "                raise ValueError('unknown kind', kind)\n",
    "\n",
    "            cur_pres = self.sess.run(z_pres, feed_dict={self.in_ph: x_batch})\n",
    "            num_detected = np.sum(np.rint(cur_pres), axis=1)\n",
    "            correct += np.sum(num_detected == c_batch)\n",
    "            num_detected_tot += np.sum(num_detected)\n",
    "        test_acc = correct / (num_batches * batch_size)\n",
    "        avg_obj = num_detected_tot / (num_batches * batch_size)\n",
    "        return test_acc, avg_obj\n",
    "    \n",
    "    \n",
    "def grid_images(images, ncol=8, figsize=(12, 8)):\n",
    "    nrow = int(numpy.ceil(float(images.shape[0]) / ncol))\n",
    "    \n",
    "    fig, ax = plt.subplots(ncols=ncol, nrows=nrow, figsize=figsize)\n",
    "    for i in range(images.shape[0]):\n",
    "        c,r = i % ncol, i // ncol\n",
    "        ax[r,c].imshow(images[i,...,0], cmap='gray')\n",
    "        ax[r,c].set_axis_off()\n",
    "        \n",
    "    plt.close(fig)\n",
    "    return fig"
   ]
  },
  {
   "cell_type": "code",
   "execution_count": 70,
   "metadata": {},
   "outputs": [],
   "source": [
    "conf = config.SupairConfig()\n",
    "conf.visual = False\n",
    "\n",
    "# data config\n",
    "conf.dataset = 'MNIST'  # select dataset from 'MNIST', 'sprites', 'omniglot'\n",
    "\n",
    "# ORIGINAL\n",
    "# conf.train_file = '../processed_dataset/their_mnist_train.npz'\n",
    "# conf.test_file = '../processed_dataset/their_mnist_test.npz'\n",
    "# conf.out_test_file = '../processed_dataset/their_mnist_test.npz'\n",
    "# conf.checkpoint_dir = 'checkpoints_original'\n",
    "# conf.log_file = 'original-log_v7.csv'\n",
    "# conf.min_obj_scale = 0.3  # bounds for width of bounding box relative to native width=28\n",
    "# conf.max_obj_scale = 0.9  # bounds for width of bounding box relative to native width=28\n",
    "\n",
    "# EXTRAPOLATION NO GRID\n",
    "conf.train_file = '../processed_dataset/mnist_train_80x80_n0_3_no_grid.npz'\n",
    "conf.test_file = '../processed_dataset/mnist_test_80x80_n0_3_no_grid.npz'\n",
    "conf.out_test_file = '../processed_dataset/mnist_test_80x80_n4_6_no_grid.npz'\n",
    "conf.checkpoint_dir = 'checkpoints_extrapolation_no_grid'\n",
    "conf.log_file = 'extrapolation_no_grid-log.csv'\n",
    "conf.min_obj_scale = 0.5  # bounds for width of bounding box relative to native width=28\n",
    "conf.max_obj_scale = 1.5  # bounds for width of bounding box relative to native width=28\n",
    "    \n",
    "\n",
    "conf.noise = False  # add Gaussian noise\n",
    "conf.structured_noise = True  # add background grid\n",
    "conf.background_model = True  # use learned background model\n",
    "\n",
    "conf.num_steps = 6  # maximum number of digits\n",
    "conf.dataset = 'MNIST'  # select MNIST\n",
    "\n",
    "# learning config\n",
    "conf.load_params = False\n",
    "conf.save_params = True\n",
    "\n",
    "conf.batch_size = 64 # default is 256"
   ]
  },
  {
   "cell_type": "markdown",
   "metadata": {},
   "source": [
    "# Convert their dataset in our format"
   ]
  },
  {
   "cell_type": "code",
   "execution_count": 71,
   "metadata": {},
   "outputs": [],
   "source": [
    "#(x, counts), (x_test, c_test) = datasets.load_mnist(conf.scene_width, max_digits=2, path=conf.data_path)\n",
    "#\n",
    "#numpy.savez_compressed(\"their_mnist_train\", images=x, counts=counts)\n",
    "#numpy.savez_compressed(\"their_mnist_test\", images=x_test, counts=c_test)"
   ]
  },
  {
   "cell_type": "markdown",
   "metadata": {},
   "source": [
    "# Check the dataset"
   ]
  },
  {
   "cell_type": "code",
   "execution_count": 72,
   "metadata": {},
   "outputs": [
    {
     "name": "stdout",
     "output_type": "stream",
     "text": [
      "(4000, 80, 80, 1) (4000, 80, 80, 1) (3000, 80, 80, 1)\n"
     ]
    }
   ],
   "source": [
    "(x, counts), (x_test, c_test), (x_test_out, c_test_out)= load_dataset_from_file(conf.train_file,\n",
    "                                                                                conf.test_file,\n",
    "                                                                                conf.out_test_file)\n",
    "\n",
    "\n",
    "print(x.shape, x_test.shape, x_test_out.shape)"
   ]
  },
  {
   "cell_type": "code",
   "execution_count": 73,
   "metadata": {},
   "outputs": [
    {
     "name": "stdout",
     "output_type": "stream",
     "text": [
      "[3 3 3 3 2 3 3 3 3 3 3 2 3 3 3 3]\n"
     ]
    },
    {
     "data": {
      "image/png": "[encoded data removed]",
      "text/plain": [
       "<Figure size 864x216 with 16 Axes>"
      ]
     },
     "execution_count": 73,
     "metadata": {},
     "output_type": "execute_result"
    }
   ],
   "source": [
    "images = x[0:16]\n",
    "print(counts[0:16])\n",
    "grid_images(images[:16], figsize=(12,3))   "
   ]
  },
  {
   "cell_type": "markdown",
   "metadata": {},
   "source": [
    "# Do the training"
   ]
  },
  {
   "cell_type": "code",
   "execution_count": 74,
   "metadata": {},
   "outputs": [
    {
     "name": "stdout",
     "output_type": "stream",
     "text": [
      "Number of trainable parameters:\n",
      "rnn 6830077\n",
      "obj-spn 286560\n",
      "bg-spn 230508\n",
      "TOTAL 7347145\n",
      "Built model\n",
      "train, N_iter 0, Accuracy: 0.0, avg_obj: 5.8125, elbo 1200.66015625\n",
      "train, N_iter 100, Accuracy: 0.609375, avg_obj: 1.1875, elbo 2153.3759765625\n",
      "train, N_iter 200, Accuracy: 0.75, avg_obj: 1.203125, elbo 2602.380859375\n"
     ]
    },
    {
     "ename": "KeyboardInterrupt",
     "evalue": "",
     "output_type": "error",
     "traceback": [
      "\u001b[0;31m---------------------------------------------------------------------------\u001b[0m",
      "\u001b[0;31mKeyboardInterrupt\u001b[0m                         Traceback (most recent call last)",
      "\u001b[0;32m<ipython-input-74-53006922f453>\u001b[0m in \u001b[0;36m<module>\u001b[0;34m\u001b[0m\n\u001b[1;32m      1\u001b[0m \u001b[0mtf\u001b[0m\u001b[0;34m.\u001b[0m\u001b[0mreset_default_graph\u001b[0m\u001b[0;34m(\u001b[0m\u001b[0;34m)\u001b[0m\u001b[0;34m\u001b[0m\u001b[0;34m\u001b[0m\u001b[0m\n\u001b[1;32m      2\u001b[0m \u001b[0mtrainer\u001b[0m \u001b[0;34m=\u001b[0m \u001b[0mSupairTrainer\u001b[0m\u001b[0;34m(\u001b[0m\u001b[0mconf\u001b[0m\u001b[0;34m)\u001b[0m\u001b[0;34m\u001b[0m\u001b[0;34m\u001b[0m\u001b[0m\n\u001b[0;32m----> 3\u001b[0;31m \u001b[0mtrainer\u001b[0m\u001b[0;34m.\u001b[0m\u001b[0mrun_training\u001b[0m\u001b[0;34m(\u001b[0m\u001b[0;34m)\u001b[0m\u001b[0;34m\u001b[0m\u001b[0;34m\u001b[0m\u001b[0m\n\u001b[0m\u001b[1;32m      4\u001b[0m \u001b[0;31m#tf.reset_default_graph()\u001b[0m\u001b[0;34m\u001b[0m\u001b[0;34m\u001b[0m\u001b[0;34m\u001b[0m\u001b[0m\n",
      "\u001b[0;32m<ipython-input-69-85d0d6bec1b7>\u001b[0m in \u001b[0;36mrun_training\u001b[0;34m(self)\u001b[0m\n\u001b[1;32m    155\u001b[0m             \u001b[0;31m# print(\"DEBUG ->\",n_iter, i, batch.shape)\u001b[0m\u001b[0;34m\u001b[0m\u001b[0;34m\u001b[0m\u001b[0;34m\u001b[0m\u001b[0m\n\u001b[1;32m    156\u001b[0m \u001b[0;34m\u001b[0m\u001b[0m\n\u001b[0;32m--> 157\u001b[0;31m             \u001b[0m_\u001b[0m\u001b[0;34m,\u001b[0m \u001b[0mcur_elbo\u001b[0m\u001b[0;34m,\u001b[0m \u001b[0mcur_values\u001b[0m \u001b[0;34m=\u001b[0m \u001b[0msess\u001b[0m\u001b[0;34m.\u001b[0m\u001b[0mrun\u001b[0m\u001b[0;34m(\u001b[0m\u001b[0;34m[\u001b[0m\u001b[0mself\u001b[0m\u001b[0;34m.\u001b[0m\u001b[0mtrain_op\u001b[0m\u001b[0;34m,\u001b[0m \u001b[0mself\u001b[0m\u001b[0;34m.\u001b[0m\u001b[0melbo\u001b[0m\u001b[0;34m,\u001b[0m \u001b[0mself\u001b[0m\u001b[0;34m.\u001b[0m\u001b[0mtensors_of_interest\u001b[0m\u001b[0;34m]\u001b[0m\u001b[0;34m,\u001b[0m \u001b[0mfeed_dict\u001b[0m\u001b[0;34m=\u001b[0m\u001b[0;34m{\u001b[0m\u001b[0mself\u001b[0m\u001b[0;34m.\u001b[0m\u001b[0min_ph\u001b[0m\u001b[0;34m:\u001b[0m \u001b[0mbatch\u001b[0m\u001b[0;34m}\u001b[0m\u001b[0;34m)\u001b[0m\u001b[0;34m\u001b[0m\u001b[0;34m\u001b[0m\u001b[0m\n\u001b[0m\u001b[1;32m    158\u001b[0m \u001b[0;34m\u001b[0m\u001b[0m\n\u001b[1;32m    159\u001b[0m             \u001b[0;32mif\u001b[0m \u001b[0;34m(\u001b[0m\u001b[0mn_iter\u001b[0m \u001b[0;34m%\u001b[0m \u001b[0;36m1000\u001b[0m \u001b[0;34m==\u001b[0m\u001b[0;36m0\u001b[0m\u001b[0;34m)\u001b[0m \u001b[0;32mand\u001b[0m \u001b[0;34m(\u001b[0m\u001b[0mn_iter\u001b[0m \u001b[0;34m>\u001b[0m \u001b[0;36m0\u001b[0m\u001b[0;34m)\u001b[0m\u001b[0;34m:\u001b[0m\u001b[0;34m\u001b[0m\u001b[0;34m\u001b[0m\u001b[0m\n",
      "\u001b[0;32m/opt/conda/envs/myenv/lib/python3.6/site-packages/tensorflow/python/client/session.py\u001b[0m in \u001b[0;36mrun\u001b[0;34m(self, fetches, feed_dict, options, run_metadata)\u001b[0m\n\u001b[1;32m    903\u001b[0m     \u001b[0;32mtry\u001b[0m\u001b[0;34m:\u001b[0m\u001b[0;34m\u001b[0m\u001b[0;34m\u001b[0m\u001b[0m\n\u001b[1;32m    904\u001b[0m       result = self._run(None, fetches, feed_dict, options_ptr,\n\u001b[0;32m--> 905\u001b[0;31m                          run_metadata_ptr)\n\u001b[0m\u001b[1;32m    906\u001b[0m       \u001b[0;32mif\u001b[0m \u001b[0mrun_metadata\u001b[0m\u001b[0;34m:\u001b[0m\u001b[0;34m\u001b[0m\u001b[0;34m\u001b[0m\u001b[0m\n\u001b[1;32m    907\u001b[0m         \u001b[0mproto_data\u001b[0m \u001b[0;34m=\u001b[0m \u001b[0mtf_session\u001b[0m\u001b[0;34m.\u001b[0m\u001b[0mTF_GetBuffer\u001b[0m\u001b[0;34m(\u001b[0m\u001b[0mrun_metadata_ptr\u001b[0m\u001b[0;34m)\u001b[0m\u001b[0;34m\u001b[0m\u001b[0;34m\u001b[0m\u001b[0m\n",
      "\u001b[0;32m/opt/conda/envs/myenv/lib/python3.6/site-packages/tensorflow/python/client/session.py\u001b[0m in \u001b[0;36m_run\u001b[0;34m(self, handle, fetches, feed_dict, options, run_metadata)\u001b[0m\n\u001b[1;32m   1138\u001b[0m     \u001b[0;32mif\u001b[0m \u001b[0mfinal_fetches\u001b[0m \u001b[0;32mor\u001b[0m \u001b[0mfinal_targets\u001b[0m \u001b[0;32mor\u001b[0m \u001b[0;34m(\u001b[0m\u001b[0mhandle\u001b[0m \u001b[0;32mand\u001b[0m \u001b[0mfeed_dict_tensor\u001b[0m\u001b[0;34m)\u001b[0m\u001b[0;34m:\u001b[0m\u001b[0;34m\u001b[0m\u001b[0;34m\u001b[0m\u001b[0m\n\u001b[1;32m   1139\u001b[0m       results = self._do_run(handle, final_targets, final_fetches,\n\u001b[0;32m-> 1140\u001b[0;31m                              feed_dict_tensor, options, run_metadata)\n\u001b[0m\u001b[1;32m   1141\u001b[0m     \u001b[0;32melse\u001b[0m\u001b[0;34m:\u001b[0m\u001b[0;34m\u001b[0m\u001b[0;34m\u001b[0m\u001b[0m\n\u001b[1;32m   1142\u001b[0m       \u001b[0mresults\u001b[0m \u001b[0;34m=\u001b[0m \u001b[0;34m[\u001b[0m\u001b[0;34m]\u001b[0m\u001b[0;34m\u001b[0m\u001b[0;34m\u001b[0m\u001b[0m\n",
      "\u001b[0;32m/opt/conda/envs/myenv/lib/python3.6/site-packages/tensorflow/python/client/session.py\u001b[0m in \u001b[0;36m_do_run\u001b[0;34m(self, handle, target_list, fetch_list, feed_dict, options, run_metadata)\u001b[0m\n\u001b[1;32m   1319\u001b[0m     \u001b[0;32mif\u001b[0m \u001b[0mhandle\u001b[0m \u001b[0;32mis\u001b[0m \u001b[0;32mNone\u001b[0m\u001b[0;34m:\u001b[0m\u001b[0;34m\u001b[0m\u001b[0;34m\u001b[0m\u001b[0m\n\u001b[1;32m   1320\u001b[0m       return self._do_call(_run_fn, feeds, fetches, targets, options,\n\u001b[0;32m-> 1321\u001b[0;31m                            run_metadata)\n\u001b[0m\u001b[1;32m   1322\u001b[0m     \u001b[0;32melse\u001b[0m\u001b[0;34m:\u001b[0m\u001b[0;34m\u001b[0m\u001b[0;34m\u001b[0m\u001b[0m\n\u001b[1;32m   1323\u001b[0m       \u001b[0;32mreturn\u001b[0m \u001b[0mself\u001b[0m\u001b[0;34m.\u001b[0m\u001b[0m_do_call\u001b[0m\u001b[0;34m(\u001b[0m\u001b[0m_prun_fn\u001b[0m\u001b[0;34m,\u001b[0m \u001b[0mhandle\u001b[0m\u001b[0;34m,\u001b[0m \u001b[0mfeeds\u001b[0m\u001b[0;34m,\u001b[0m \u001b[0mfetches\u001b[0m\u001b[0;34m)\u001b[0m\u001b[0;34m\u001b[0m\u001b[0;34m\u001b[0m\u001b[0m\n",
      "\u001b[0;32m/opt/conda/envs/myenv/lib/python3.6/site-packages/tensorflow/python/client/session.py\u001b[0m in \u001b[0;36m_do_call\u001b[0;34m(self, fn, *args)\u001b[0m\n\u001b[1;32m   1325\u001b[0m   \u001b[0;32mdef\u001b[0m \u001b[0m_do_call\u001b[0m\u001b[0;34m(\u001b[0m\u001b[0mself\u001b[0m\u001b[0;34m,\u001b[0m \u001b[0mfn\u001b[0m\u001b[0;34m,\u001b[0m \u001b[0;34m*\u001b[0m\u001b[0margs\u001b[0m\u001b[0;34m)\u001b[0m\u001b[0;34m:\u001b[0m\u001b[0;34m\u001b[0m\u001b[0;34m\u001b[0m\u001b[0m\n\u001b[1;32m   1326\u001b[0m     \u001b[0;32mtry\u001b[0m\u001b[0;34m:\u001b[0m\u001b[0;34m\u001b[0m\u001b[0;34m\u001b[0m\u001b[0m\n\u001b[0;32m-> 1327\u001b[0;31m       \u001b[0;32mreturn\u001b[0m \u001b[0mfn\u001b[0m\u001b[0;34m(\u001b[0m\u001b[0;34m*\u001b[0m\u001b[0margs\u001b[0m\u001b[0;34m)\u001b[0m\u001b[0;34m\u001b[0m\u001b[0;34m\u001b[0m\u001b[0m\n\u001b[0m\u001b[1;32m   1328\u001b[0m     \u001b[0;32mexcept\u001b[0m \u001b[0merrors\u001b[0m\u001b[0;34m.\u001b[0m\u001b[0mOpError\u001b[0m \u001b[0;32mas\u001b[0m \u001b[0me\u001b[0m\u001b[0;34m:\u001b[0m\u001b[0;34m\u001b[0m\u001b[0;34m\u001b[0m\u001b[0m\n\u001b[1;32m   1329\u001b[0m       \u001b[0mmessage\u001b[0m \u001b[0;34m=\u001b[0m \u001b[0mcompat\u001b[0m\u001b[0;34m.\u001b[0m\u001b[0mas_text\u001b[0m\u001b[0;34m(\u001b[0m\u001b[0me\u001b[0m\u001b[0;34m.\u001b[0m\u001b[0mmessage\u001b[0m\u001b[0;34m)\u001b[0m\u001b[0;34m\u001b[0m\u001b[0;34m\u001b[0m\u001b[0m\n",
      "\u001b[0;32m/opt/conda/envs/myenv/lib/python3.6/site-packages/tensorflow/python/client/session.py\u001b[0m in \u001b[0;36m_run_fn\u001b[0;34m(feed_dict, fetch_list, target_list, options, run_metadata)\u001b[0m\n\u001b[1;32m   1310\u001b[0m       \u001b[0mself\u001b[0m\u001b[0;34m.\u001b[0m\u001b[0m_extend_graph\u001b[0m\u001b[0;34m(\u001b[0m\u001b[0;34m)\u001b[0m\u001b[0;34m\u001b[0m\u001b[0;34m\u001b[0m\u001b[0m\n\u001b[1;32m   1311\u001b[0m       return self._call_tf_sessionrun(\n\u001b[0;32m-> 1312\u001b[0;31m           options, feed_dict, fetch_list, target_list, run_metadata)\n\u001b[0m\u001b[1;32m   1313\u001b[0m \u001b[0;34m\u001b[0m\u001b[0m\n\u001b[1;32m   1314\u001b[0m     \u001b[0;32mdef\u001b[0m \u001b[0m_prun_fn\u001b[0m\u001b[0;34m(\u001b[0m\u001b[0mhandle\u001b[0m\u001b[0;34m,\u001b[0m \u001b[0mfeed_dict\u001b[0m\u001b[0;34m,\u001b[0m \u001b[0mfetch_list\u001b[0m\u001b[0;34m)\u001b[0m\u001b[0;34m:\u001b[0m\u001b[0;34m\u001b[0m\u001b[0;34m\u001b[0m\u001b[0m\n",
      "\u001b[0;32m/opt/conda/envs/myenv/lib/python3.6/site-packages/tensorflow/python/client/session.py\u001b[0m in \u001b[0;36m_call_tf_sessionrun\u001b[0;34m(self, options, feed_dict, fetch_list, target_list, run_metadata)\u001b[0m\n\u001b[1;32m   1418\u001b[0m         return tf_session.TF_Run(\n\u001b[1;32m   1419\u001b[0m             \u001b[0mself\u001b[0m\u001b[0;34m.\u001b[0m\u001b[0m_session\u001b[0m\u001b[0;34m,\u001b[0m \u001b[0moptions\u001b[0m\u001b[0;34m,\u001b[0m \u001b[0mfeed_dict\u001b[0m\u001b[0;34m,\u001b[0m \u001b[0mfetch_list\u001b[0m\u001b[0;34m,\u001b[0m \u001b[0mtarget_list\u001b[0m\u001b[0;34m,\u001b[0m\u001b[0;34m\u001b[0m\u001b[0;34m\u001b[0m\u001b[0m\n\u001b[0;32m-> 1420\u001b[0;31m             status, run_metadata)\n\u001b[0m\u001b[1;32m   1421\u001b[0m \u001b[0;34m\u001b[0m\u001b[0m\n\u001b[1;32m   1422\u001b[0m   \u001b[0;32mdef\u001b[0m \u001b[0m_call_tf_sessionprun\u001b[0m\u001b[0;34m(\u001b[0m\u001b[0mself\u001b[0m\u001b[0;34m,\u001b[0m \u001b[0mhandle\u001b[0m\u001b[0;34m,\u001b[0m \u001b[0mfeed_dict\u001b[0m\u001b[0;34m,\u001b[0m \u001b[0mfetch_list\u001b[0m\u001b[0;34m)\u001b[0m\u001b[0;34m:\u001b[0m\u001b[0;34m\u001b[0m\u001b[0;34m\u001b[0m\u001b[0m\n",
      "\u001b[0;31mKeyboardInterrupt\u001b[0m: "
     ]
    }
   ],
   "source": [
    "tf.reset_default_graph()\n",
    "trainer = SupairTrainer(conf)\n",
    "trainer.run_training()\n",
    "#tf.reset_default_graph()"
   ]
  },
  {
   "cell_type": "markdown",
   "metadata": {},
   "source": [
    "### Look at the model after training"
   ]
  },
  {
   "cell_type": "code",
   "execution_count": null,
   "metadata": {},
   "outputs": [],
   "source": [
    "cur_values_train = trainer.sess.run(trainer.tensors_of_interest, feed_dict={trainer.in_ph: x[:conf.batch_size]})\n",
    "cur_values_test = trainer.sess.run(trainer.tensors_of_interest, feed_dict={trainer.in_ph: x_test[:conf.batch_size]})\n",
    "cur_values_test_out = trainer.sess.run(trainer.tensors_of_interest, feed_dict={trainer.in_ph: x_test_out[:conf.batch_size]})"
   ]
  },
  {
   "cell_type": "code",
   "execution_count": null,
   "metadata": {},
   "outputs": [],
   "source": [
    "results_train = trainer.reconstruct_scenes(x[:16], cur_values_train)\n",
    "results_test = trainer.reconstruct_scenes(x_test[:16], cur_values_test)\n",
    "results_test_out = trainer.reconstruct_scenes(x_test_out[:16], cur_values_test_out)"
   ]
  },
  {
   "cell_type": "markdown",
   "metadata": {},
   "source": [
    "# Train"
   ]
  },
  {
   "cell_type": "code",
   "execution_count": null,
   "metadata": {},
   "outputs": [],
   "source": [
    "grid_images(x[:16], figsize=(12,3))"
   ]
  },
  {
   "cell_type": "code",
   "execution_count": null,
   "metadata": {},
   "outputs": [],
   "source": [
    "grid_images(results_train[:16], figsize=(12,3))"
   ]
  },
  {
   "cell_type": "markdown",
   "metadata": {},
   "source": [
    "# Test"
   ]
  },
  {
   "cell_type": "code",
   "execution_count": null,
   "metadata": {},
   "outputs": [],
   "source": [
    "grid_images(x_test[:16], figsize=(12,3))"
   ]
  },
  {
   "cell_type": "code",
   "execution_count": null,
   "metadata": {},
   "outputs": [],
   "source": [
    "grid_images(results_test[:16], figsize=(12,3))"
   ]
  },
  {
   "cell_type": "markdown",
   "metadata": {},
   "source": [
    "# Test_out"
   ]
  },
  {
   "cell_type": "code",
   "execution_count": null,
   "metadata": {},
   "outputs": [],
   "source": [
    "grid_images(x_test_out[:16], figsize=(12,3))"
   ]
  },
  {
   "cell_type": "code",
   "execution_count": null,
   "metadata": {},
   "outputs": [],
   "source": [
    "grid_images(results_test_out[:16], figsize=(12,3))"
   ]
  },
  {
   "cell_type": "code",
   "execution_count": null,
   "metadata": {},
   "outputs": [],
   "source": []
  },
  {
   "cell_type": "code",
   "execution_count": null,
   "metadata": {},
   "outputs": [],
   "source": []
  }
 ],
 "metadata": {
  "environment": {
   "name": "common-cu90.m59",
   "type": "gcloud",
   "uri": "gcr.io/deeplearning-platform-release/base-cu90:m59"
  },
  "kernelspec": {
   "display_name": "Python [conda env:myenv]",
   "language": "python",
   "name": "conda-env-myenv-py"
  },
  "language_info": {
   "codemirror_mode": {
    "name": "ipython",
    "version": 3
   },
   "file_extension": ".py",
   "mimetype": "text/x-python",
   "name": "python",
   "nbconvert_exporter": "python",
   "pygments_lexer": "ipython3",
   "version": "3.6.12"
  }
 },
 "nbformat": 4,
 "nbformat_minor": 4
}
