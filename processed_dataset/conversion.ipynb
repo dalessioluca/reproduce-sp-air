{
 "cells": [
  {
   "cell_type": "code",
   "execution_count": 17,
   "metadata": {},
   "outputs": [],
   "source": [
    "#!pip install dill==0.3.2\n",
    "\n",
    "import dill\n",
    "import torch\n",
    "import numpy\n",
    "import glob\n",
    "\n",
    "def load_obj(path):\n",
    "    with open(path, 'rb') as f:\n",
    "        return torch.load(f, pickle_module=dill)"
   ]
  },
  {
   "cell_type": "code",
   "execution_count": 21,
   "metadata": {},
   "outputs": [
    {
     "name": "stdout",
     "output_type": "stream",
     "text": [
      "./mnist_train_80x80_n2_6_with_grid.pt ./mnist_train_80x80_n2_6_with_grid\n",
      "./mnist_test_80x80_n4_6_no_grid.pt ./mnist_test_80x80_n4_6_no_grid\n",
      "./mnist_train_80x80_n4_6_with_grid.pt ./mnist_train_80x80_n4_6_with_grid\n",
      "./mnist_train_80x80_n7_8_with_grid.pt ./mnist_train_80x80_n7_8_with_grid\n",
      "./mnist_test_80x80_n1_3_no_grid.pt ./mnist_test_80x80_n1_3_no_grid\n",
      "./mnist_train_80x80_n0_3_no_grid.pt ./mnist_train_80x80_n0_3_no_grid\n",
      "./mnist_train_80x80_n1_3_no_grid.pt ./mnist_train_80x80_n1_3_no_grid\n",
      "./mnist_test_80x80_n0_3_no_grid.pt ./mnist_test_80x80_n0_3_no_grid\n",
      "./mnist_test_80x80_n1_3_with_grid.pt ./mnist_test_80x80_n1_3_with_grid\n",
      "./mnist_train_80x80_n4_6_no_grid.pt ./mnist_train_80x80_n4_6_no_grid\n",
      "./mnist_test_80x80_n0_3_with_grid.pt ./mnist_test_80x80_n0_3_with_grid\n",
      "./mnist_test_80x80_n2_6_no_grid.pt ./mnist_test_80x80_n2_6_no_grid\n",
      "./mnist_test_80x80_n7_8_no_grid.pt ./mnist_test_80x80_n7_8_no_grid\n",
      "./mnist_train_80x80_n7_8_no_grid.pt ./mnist_train_80x80_n7_8_no_grid\n",
      "./mnist_test_80x80_n2_6_with_grid.pt ./mnist_test_80x80_n2_6_with_grid\n",
      "./mnist_train_80x80_n1_3_with_grid.pt ./mnist_train_80x80_n1_3_with_grid\n",
      "./mnist_train_80x80_n2_6_no_grid.pt ./mnist_train_80x80_n2_6_no_grid\n",
      "./mnist_train_80x80_n0_3_with_grid.pt ./mnist_train_80x80_n0_3_with_grid\n",
      "./mnist_test_80x80_n7_8_with_grid.pt ./mnist_test_80x80_n7_8_with_grid\n",
      "./mnist_test_80x80_n4_6_with_grid.pt ./mnist_test_80x80_n4_6_with_grid\n"
     ]
    }
   ],
   "source": [
    "file_list = glob.glob(\"./*.pt\")\n",
    "\n",
    "for file in file_list:\n",
    "    new_file = file.rstrip(\".pt\")\n",
    "    print(file, new_file)\n",
    "    \n",
    "    a,b,c = load_obj(file)\n",
    "    a = a.permute(0,2,3,1).numpy()\n",
    "    b = b.permute(0,2,3,1).numpy()\n",
    "    c = c.numpy()\n",
    "    numpy.savez_compressed(new_file, images=a, segmentations=b, counts=c)"
   ]
  },
  {
   "cell_type": "code",
   "execution_count": 15,
   "metadata": {},
   "outputs": [],
   "source": []
  },
  {
   "cell_type": "code",
   "execution_count": 14,
   "metadata": {},
   "outputs": [
    {
     "ename": "ValueError",
     "evalue": "could not broadcast input array from shape (4000,80,80,1) into shape (4000)",
     "output_type": "error",
     "traceback": [
      "\u001b[0;31m---------------------------------------------------------------------------\u001b[0m",
      "\u001b[0;31mValueError\u001b[0m                                Traceback (most recent call last)",
      "\u001b[0;32m<ipython-input-14-6f3b5c58c3d5>\u001b[0m in \u001b[0;36m<module>\u001b[0;34m\u001b[0m\n\u001b[0;32m----> 1\u001b[0;31m \u001b[0mnumpy\u001b[0m\u001b[0;34m.\u001b[0m\u001b[0msave\u001b[0m\u001b[0;34m(\u001b[0m\u001b[0;34m\"mnist_test_80x80_n0_3_no_grid.npy\"\u001b[0m\u001b[0;34m,\u001b[0m \u001b[0;34m[\u001b[0m\u001b[0ma\u001b[0m\u001b[0;34m,\u001b[0m\u001b[0mb\u001b[0m\u001b[0;34m,\u001b[0m\u001b[0mc\u001b[0m\u001b[0;34m]\u001b[0m\u001b[0;34m)\u001b[0m\u001b[0;34m\u001b[0m\u001b[0;34m\u001b[0m\u001b[0m\n\u001b[0m",
      "\u001b[0;32m<__array_function__ internals>\u001b[0m in \u001b[0;36msave\u001b[0;34m(*args, **kwargs)\u001b[0m\n",
      "\u001b[0;32m/opt/anaconda3/lib/python3.7/site-packages/numpy/lib/npyio.py\u001b[0m in \u001b[0;36msave\u001b[0;34m(file, arr, allow_pickle, fix_imports)\u001b[0m\n\u001b[1;32m    549\u001b[0m \u001b[0;34m\u001b[0m\u001b[0m\n\u001b[1;32m    550\u001b[0m     \u001b[0;32mtry\u001b[0m\u001b[0;34m:\u001b[0m\u001b[0;34m\u001b[0m\u001b[0;34m\u001b[0m\u001b[0m\n\u001b[0;32m--> 551\u001b[0;31m         \u001b[0marr\u001b[0m \u001b[0;34m=\u001b[0m \u001b[0mnp\u001b[0m\u001b[0;34m.\u001b[0m\u001b[0masanyarray\u001b[0m\u001b[0;34m(\u001b[0m\u001b[0marr\u001b[0m\u001b[0;34m)\u001b[0m\u001b[0;34m\u001b[0m\u001b[0;34m\u001b[0m\u001b[0m\n\u001b[0m\u001b[1;32m    552\u001b[0m         format.write_array(fid, arr, allow_pickle=allow_pickle,\n\u001b[1;32m    553\u001b[0m                            pickle_kwargs=pickle_kwargs)\n",
      "\u001b[0;32m/opt/anaconda3/lib/python3.7/site-packages/numpy/core/_asarray.py\u001b[0m in \u001b[0;36masanyarray\u001b[0;34m(a, dtype, order)\u001b[0m\n\u001b[1;32m    136\u001b[0m \u001b[0;34m\u001b[0m\u001b[0m\n\u001b[1;32m    137\u001b[0m     \"\"\"\n\u001b[0;32m--> 138\u001b[0;31m     \u001b[0;32mreturn\u001b[0m \u001b[0marray\u001b[0m\u001b[0;34m(\u001b[0m\u001b[0ma\u001b[0m\u001b[0;34m,\u001b[0m \u001b[0mdtype\u001b[0m\u001b[0;34m,\u001b[0m \u001b[0mcopy\u001b[0m\u001b[0;34m=\u001b[0m\u001b[0;32mFalse\u001b[0m\u001b[0;34m,\u001b[0m \u001b[0morder\u001b[0m\u001b[0;34m=\u001b[0m\u001b[0morder\u001b[0m\u001b[0;34m,\u001b[0m \u001b[0msubok\u001b[0m\u001b[0;34m=\u001b[0m\u001b[0;32mTrue\u001b[0m\u001b[0;34m)\u001b[0m\u001b[0;34m\u001b[0m\u001b[0;34m\u001b[0m\u001b[0m\n\u001b[0m\u001b[1;32m    139\u001b[0m \u001b[0;34m\u001b[0m\u001b[0m\n\u001b[1;32m    140\u001b[0m \u001b[0;34m\u001b[0m\u001b[0m\n",
      "\u001b[0;31mValueError\u001b[0m: could not broadcast input array from shape (4000,80,80,1) into shape (4000)"
     ]
    }
   ],
   "source": []
  },
  {
   "cell_type": "code",
   "execution_count": 12,
   "metadata": {},
   "outputs": [
    {
     "name": "stdout",
     "output_type": "stream",
     "text": [
      "(4000, 80, 80, 1) (4000, 80, 80, 1) (4000,)\n"
     ]
    }
   ],
   "source": [
    "print(a.shape, b.shape, c.shape)"
   ]
  },
  {
   "cell_type": "code",
   "execution_count": null,
   "metadata": {},
   "outputs": [],
   "source": []
  }
 ],
 "metadata": {
  "kernelspec": {
   "display_name": "Python 3",
   "language": "python",
   "name": "python3"
  },
  "language_info": {
   "codemirror_mode": {
    "name": "ipython",
    "version": 3
   },
   "file_extension": ".py",
   "mimetype": "text/x-python",
   "name": "python",
   "nbconvert_exporter": "python",
   "pygments_lexer": "ipython3",
   "version": "3.7.7"
  }
 },
 "nbformat": 4,
 "nbformat_minor": 4
}
